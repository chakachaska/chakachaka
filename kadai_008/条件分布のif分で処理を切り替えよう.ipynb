{
  "nbformat": 4,
  "nbformat_minor": 0,
  "metadata": {
    "colab": {
      "provenance": []
    },
    "kernelspec": {
      "name": "python3",
      "display_name": "Python 3"
    },
    "language_info": {
      "name": "python"
    }
  },
  "cells": [
    {
      "cell_type": "code",
      "execution_count": 2,
      "metadata": {
        "colab": {
          "base_uri": "https://localhost:8080/"
        },
        "id": "snInOugpnJGf",
        "outputId": "ef591d77-f1ba-41ed-e898-7269f17b1a46"
      },
      "outputs": [
        {
          "output_type": "stream",
          "name": "stdout",
          "text": [
            "FizzBuzz\n"
          ]
        }
      ],
      "source": [
        "# varの値を指定\n",
        "var = 15  # 任意の正の整数を設定\n",
        "\n",
        "# 条件分岐\n",
        "if var % 3 == 0 and var % 5 == 0:  # 3の倍数かつ5の倍数\n",
        "    print(\"FizzBuzz\")\n",
        "else:\n",
        "    if var % 3 == 0:  # 3の倍数\n",
        "        print(\"Fizz\")\n",
        "    else:\n",
        "        if var % 5 == 0:  # 5の倍数\n",
        "            print(\"Buzz\")\n",
        "        else:\n",
        "            print(var)  # どれにも該当しない場合"
      ]
    }
  ]
}