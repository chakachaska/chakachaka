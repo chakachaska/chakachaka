{
  "nbformat": 4,
  "nbformat_minor": 0,
  "metadata": {
    "colab": {
      "provenance": []
    },
    "kernelspec": {
      "name": "python3",
      "display_name": "Python 3"
    },
    "language_info": {
      "name": "python"
    }
  },
  "cells": [
    {
      "cell_type": "code",
      "execution_count": 1,
      "metadata": {
        "colab": {
          "base_uri": "https://localhost:8080/"
        },
        "id": "Oe3_ICERkE8S",
        "outputId": "d6224f3d-d2f2-4949-cc7e-1b875c64f318"
      },
      "outputs": [
        {
          "output_type": "stream",
          "name": "stdout",
          "text": [
            "水曜日は晴れです\n"
          ]
        }
      ],
      "source": [
        "tenkiyoho=[\"月曜日は晴れです\",\"火曜日は雨です\",\"水曜日は晴れです\",\"木曜日は晴れです\",\"金曜日は曇です\",\"土曜日は曇のち雨です\",\"日曜日は雷雨です\"]\n",
        "#　各曜日の天気を取り出して表示\n",
        "print(tenkiyoho[2])\n"
      ]
    },
    {
      "cell_type": "code",
      "source": [
        "tenkiyoho={\"mon\":\"晴れ\",\"tue\":\"雨\",\"wed\":\"晴れ\",\"thu\":\"晴れ\",\"fri\":\"曇\",\"sat\":\"曇りのち雨\",\"sun\":\"雷雨\"}\n",
        "#　各曜日の天気を取り出して表示\n",
        "print(tenkiyoho[\"wed\"])\n"
      ],
      "metadata": {
        "colab": {
          "base_uri": "https://localhost:8080/"
        },
        "id": "DMvbod9flqSO",
        "outputId": "fbe03a0c-7f6a-485a-e021-ec57257ea2a1"
      },
      "execution_count": 5,
      "outputs": [
        {
          "output_type": "stream",
          "name": "stdout",
          "text": [
            "晴れ\n"
          ]
        }
      ]
    }
  ]
}