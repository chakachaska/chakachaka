{
  "nbformat": 4,
  "nbformat_minor": 0,
  "metadata": {
    "colab": {
      "provenance": []
    },
    "kernelspec": {
      "name": "python3",
      "display_name": "Python 3"
    },
    "language_info": {
      "name": "python"
    }
  },
  "cells": [
    {
      "cell_type": "code",
      "execution_count": 9,
      "metadata": {
        "colab": {
          "base_uri": "https://localhost:8080/"
        },
        "id": "wYOhXd8mf1Wl",
        "outputId": "710c0ff9-739e-429e-eed3-35f9e4ca5692"
      },
      "outputs": [
        {
          "output_type": "stream",
          "name": "stdout",
          "text": [
            "台形の面積は33.0です！\n"
          ]
        }
      ],
      "source": [
        "#　台形の面積を算出する\n",
        "def is_caluculated ():\n",
        "\n",
        "  # 変数を定義する\n",
        "  x=2 # 上辺\n",
        "  y=20 #下変\n",
        "  h=3 # 高さ\n",
        "\n",
        "  area=(x+y)*h/2\n",
        "\n",
        "  print (f\"台形の面積は{area}です！\")\n",
        "\n",
        "  # 関数を呼び出す\n",
        "is_caluculated()\n",
        "\n"
      ]
    }
  ]
}