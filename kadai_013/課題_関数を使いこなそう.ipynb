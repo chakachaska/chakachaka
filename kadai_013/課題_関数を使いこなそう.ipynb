{
  "nbformat": 4,
  "nbformat_minor": 0,
  "metadata": {
    "colab": {
      "provenance": []
    },
    "kernelspec": {
      "name": "python3",
      "display_name": "Python 3"
    },
    "language_info": {
      "name": "python"
    }
  },
  "cells": [
    {
      "cell_type": "code",
      "source": [
        "def calculate_total_price(price, tax_rate):\n",
        "    \"\"\"\n",
        "    商品の金額と消費税率を引数として受け取り、消費税込みの金額を計算して返す関数。\n",
        "\n",
        "    :param price: 商品の金額 (float or int)\n",
        "    :param tax_rate: 消費税率 (float, e.g., 0.1 for 10%)\n",
        "    :return: 消費税込みの金額 (float)\n",
        "    \"\"\"\n",
        "    total = price * (1 + tax_rate)\n",
        "    return total\n",
        "\n",
        "# 商品の金額と消費税率を設定\n",
        "price = 100.0  # 商品の金額\n",
        "tax_rate = 0.1  # 消費税率 (10%)\n",
        "\n",
        "# 関数を呼び出して計算\n",
        "result = calculate_total_price(price, tax_rate)\n",
        "\n",
        "# 結果を表示\n",
        "print(f\"消費税込みの金額は {result} 円です。\")\n"
      ],
      "metadata": {
        "colab": {
          "base_uri": "https://localhost:8080/"
        },
        "id": "2-u74gGzznye",
        "outputId": "a58ffba5-72e1-453f-b14a-2e6e8792dcff"
      },
      "execution_count": 3,
      "outputs": [
        {
          "output_type": "stream",
          "name": "stdout",
          "text": [
            "消費税込みの金額は 110.00000000000001 円です。\n"
          ]
        }
      ]
    }
  ]
}